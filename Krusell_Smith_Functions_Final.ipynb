{
 "cells": [
  {
   "cell_type": "markdown",
   "metadata": {},
   "source": [
    "#### Import packages"
   ]
  },
  {
   "cell_type": "code",
   "execution_count": 2,
   "metadata": {},
   "outputs": [],
   "source": [
    "using Interpolations # to use interpolation \n",
    "using Random, LinearAlgebra # Draw random values\n",
    "using QuantEcon  # to use 'gridmake', `<:AbstractUtility`\n",
    "using GLM        # to regress\n",
    "using Parameters # to use type with keyword arguments"
   ]
  },
  {
   "attachments": {},
   "cell_type": "markdown",
   "metadata": {},
   "source": [
    "# Model Setup"
   ]
  },
  {
   "attachments": {},
   "cell_type": "markdown",
   "metadata": {},
   "source": [
    "Functions in this section are prepared for model parameters and initial guess of the solutions\n"
   ]
  },
  {
   "cell_type": "markdown",
   "metadata": {},
   "source": [
    "Transition_Matrix"
   ]
  },
  {
   "attachments": {},
   "cell_type": "markdown",
   "metadata": {},
   "source": [
    "Collection of transition matrices. Each row corresponds to the current state and each column is a probability to jump to a new state.\n"
   ]
  },
  {
   "cell_type": "markdown",
   "metadata": {},
   "source": [
    "transition_shocks = Transition matrix of shocks (good, employed), (bad, employed), (good, employed), (bad, employed)\n",
    "transition_agg_shocks = Transition Matrix of aggregate shocks"
   ]
  },
  {
   "cell_type": "code",
   "execution_count": 1,
   "metadata": {},
   "outputs": [],
   "source": [
    "struct TransitionMatrix\n",
    "    P::Matrix{Float64}       # 4x4 \n",
    "    Pz::Matrix{Float64}      # 2x2 aggregate shock\n",
    "    Peps_gg::Matrix{Float64} # 2x2 idiosyncratic shock conditional on good to good\n",
    "    Peps_bb::Matrix{Float64} # 2x2 idiosyncratic shock conditional on bad to bad\n",
    "    Peps_gb::Matrix{Float64} # 2x2 idiosyncratic shock conditional on good to bad\n",
    "    Peps_bg::Matrix{Float64} # 2x2 idiosyncratic shock conditional on bad to good\n",
    "end"
   ]
  },
  {
   "cell_type": "markdown",
   "metadata": {},
   "source": [
    "Create transition matrices for aggregate shock, idiosyncratic shock, and shock state"
   ]
  },
  {
   "cell_type": "markdown",
   "metadata": {},
   "source": [
    "- ug::Real: unemployment rate in good state \n",
    "- ub::Real: unemployment rate in bad state \n",
    "- zg_ave_dur::Real: average duration of good state \n",
    "- zb_ave_dur::Real: average duration of bad state \n",
    "- ug_ave_dur::Real: average duration of unemployment in good state \n",
    "- ub_ave_dur::Real: average duration of unemployment in bad state \n",
    "- puu_rel_gb2bb::Real: prob. of u to u cond. on g to b relative to that of b to b \n",
    "- puu_rel_bg2gg::Real: prob. of u to u cond. on b to g relative to that of g to g "
   ]
  },
  {
   "cell_type": "code",
   "execution_count": 3,
   "metadata": {},
   "outputs": [
    {
     "data": {
      "text/plain": [
       "create_transition_matrix (generic function with 1 method)"
      ]
     },
     "execution_count": 3,
     "metadata": {},
     "output_type": "execute_result"
    }
   ],
   "source": [
    "function create_transition_matrix(ug::Real, ub::Real,\n",
    "    zg_ave_dur::Real, zb_ave_dur::Real,\n",
    "    ug_ave_dur::Real, ub_ave_dur::Real,\n",
    "    puu_rel_gb2bb::Real, puu_rel_bg2gg::Real)\n",
    "\n",
    "# probability of remaining in good state\n",
    "pgg = 1-1/zg_ave_dur\n",
    "# probability of remaining in bad state\n",
    "pbb = 1-1/zb_ave_dur\n",
    "# probability of changing from g to b\n",
    "pgb = 1-pgg\n",
    "# probability of changing from b to g\n",
    "pbg = 1-pbb  \n",
    "\n",
    "# prob. of 0 to 0 cond. on g to g\n",
    "p00_gg = 1-1/ug_ave_dur\n",
    "# prob. of 0 to 0 cond. on b to b\n",
    "p00_bb = 1-1/ub_ave_dur\n",
    "# prob. of 0 to 1 cond. on g to g\n",
    "p01_gg = 1-p00_gg\n",
    "# prob. of 0 to 1 cond. on b to b\n",
    "p01_bb = 1-p00_bb\n",
    "\n",
    "# prob. of 0 to 0 cond. on g to b\n",
    "p00_gb=puu_rel_gb2bb*p00_bb\n",
    "# prob. of 0 to 0 cond. on b to g\n",
    "p00_bg=puu_rel_bg2gg*p00_gg\n",
    "# prob. of 0 to 1 cond. on g to b\n",
    "p01_gb=1-p00_gb\n",
    "# prob. of 0 to 1 cond. on b to g\n",
    "p01_bg=1-p00_bg\n",
    "\n",
    "# prob. of 1 to 0 cond. on  g to g\n",
    "p10_gg=(ug - ug*p00_gg)/(1-ug)\n",
    "# prob. of 1 to 0 cond. on b to b\n",
    "p10_bb=(ub - ub*p00_bb)/(1-ub)\n",
    "# prob. of 1 to 0 cond. on g to b\n",
    "p10_gb=(ub - ug*p00_gb)/(1-ug)\n",
    "# prob. of 1 to 0 cond on b to g\n",
    "p10_bg=(ug - ub*p00_bg)/(1-ub)\n",
    "# prob. of 1 to 1 cond. on  g to g\n",
    "p11_gg= 1-p10_gg\n",
    "# prob. of 1 to 1 cond. on b to b\n",
    "p11_bb= 1-p10_bb\n",
    "# prob. of 1 to 1 cond. on g to b\n",
    "p11_gb= 1-p10_gb\n",
    "# prob. of 1 to 1 cond on b to g\n",
    "p11_bg= 1-p10_bg\n",
    "\n",
    "#   (g1)         (b1)        (g0)       (b0)\n",
    "P=[pgg*p11_gg pgb*p11_gb pgg*p10_gg pgb*p10_gb;\n",
    "   pbg*p11_bg pbb*p11_bb pbg*p10_bg pbb*p10_bb;\n",
    "   pgg*p01_gg pgb*p01_gb pgg*p00_gg pgb*p00_gb;\n",
    "   pbg*p01_bg pbb*p01_bb pbg*p00_bg pbb*p00_bb]\n",
    "\n",
    "Pz=[pgg pgb;\n",
    "    pbg pbb]\n",
    "\n",
    "Peps_gg=[p11_gg p10_gg\n",
    "         p01_gg p00_gg]\n",
    "\n",
    "Peps_bb=[p11_bb p10_bb\n",
    "         p01_bb p00_bb]\n",
    "         \n",
    "Peps_gb=[p11_gb p10_gb\n",
    "         p01_gb p00_gb]\n",
    "Peps_bg=[p11_bg p10_bg\n",
    "         p01_bg p00_bg]\n",
    "transmat=TransitionMatrix(P, Pz, Peps_gg, Peps_bb, Peps_gb, Peps_bg)\n",
    "return transmat\n",
    "end\n"
   ]
  },
  {
   "cell_type": "markdown",
   "metadata": {},
   "source": [
    "Create a namedtuple for the parameters of the model KSPARAMETER"
   ]
  },
  {
   "attachments": {},
   "cell_type": "markdown",
   "metadata": {},
   "source": [
    "# CHANGER LES PARAMETERS AVEC LEURS SYMBOLES JULIA"
   ]
  },
  {
   "cell_type": "code",
   "execution_count": 4,
   "metadata": {},
   "outputs": [
    {
     "data": {
      "text/plain": [
       "KSParameter (generic function with 1 method)"
      ]
     },
     "execution_count": 4,
     "metadata": {},
     "output_type": "execute_result"
    }
   ],
   "source": [
    "function KSParameter(;\n",
    "    beta::AbstractFloat=0.99,\n",
    "    alpha::AbstractFloat=0.36,\n",
    "    delta::Real=0.025,\n",
    "    theta::Real=1,\n",
    "    k_min::Real=0,\n",
    "    k_max::Real=1000,\n",
    "    k_size::Integer=100,\n",
    "    K_min::Real=30,\n",
    "    K_max::Real=50,\n",
    "    K_size::Integer=4,\n",
    "    z_min::Real=0.99,\n",
    "    z_max::Real=1.01,\n",
    "    z_size::Integer=2,\n",
    "    eps_min::Real=0.0,\n",
    "    eps_max::Real=1.0,\n",
    "    eps_size::Integer=2,\n",
    "    ug::AbstractFloat=0.04,\n",
    "    ub::AbstractFloat=0.1,\n",
    "    zg_ave_dur::Real=8,\n",
    "    zb_ave_dur::Real=8,\n",
    "    ug_ave_dur::Real=1.5,\n",
    "    ub_ave_dur::Real=2.5,\n",
    "    puu_rel_gb2bb::Real=1.25,\n",
    "    puu_rel_bg2gg::Real=0.75,\n",
    "    mu::Real=0, \n",
    "    degree::Real=7, \n",
    "    update_k::Float64 = 0.7)\n",
    "if theta == 1\n",
    "u = LogUtility()\n",
    "else\n",
    "u = CRRAUtility(theta)\n",
    "end\n",
    "l_bar=1/(1-ub)\n",
    "# individual capital grid\n",
    "k_grid=\n",
    "(range(0, stop=k_size-1, length=k_size)/(k_size-1)).^degree*(k_max-k_min).+k_min   \n",
    "k_grid[1] = k_min; k_grid[end] = k_max; # adjust numerical error\n",
    "# aggregate capital grid\n",
    "K_grid=range(K_min, stop=K_max, length=K_size)\n",
    "# aggregate technology shock\n",
    "z_grid=range(z_max, stop=z_min, length=z_size)\n",
    "# idiosyncratic employment shock grid\n",
    "eps_grid=range(eps_max, stop=eps_min, length=eps_size)\n",
    "s_grid=gridmake(z_grid, eps_grid)               # shock grid\n",
    "# collection of transition matrices\n",
    "transmat=create_transition_matrix(ug,ub,\n",
    "zg_ave_dur,zb_ave_dur,\n",
    "ug_ave_dur,ub_ave_dur,\n",
    "puu_rel_gb2bb,puu_rel_bg2gg)\n",
    "\n",
    "ksp=(u=u, beta=beta, alpha=alpha, delta=delta, theta=theta,\n",
    " l_bar=l_bar, k_min=k_min, k_max=k_max, k_grid=k_grid,\n",
    " K_min=K_min, K_max=K_max, K_grid=K_grid, z_grid=z_grid,\n",
    " eps_grid=eps_grid, s_grid=s_grid, k_size=k_size, K_size=K_size,\n",
    " z_size=z_size, eps_size=eps_size, s_size=z_size*eps_size, \n",
    " ug=ug, ub=ub, transmat=transmat, mu=mu, update_k = update_k)\n",
    "\n",
    "return ksp\n",
    "end"
   ]
  },
  {
   "cell_type": "markdown",
   "metadata": {},
   "source": [
    " Function to determine the factor prices"
   ]
  },
  {
   "cell_type": "code",
   "execution_count": 5,
   "metadata": {},
   "outputs": [
    {
     "data": {
      "text/plain": [
       "w (generic function with 1 method)"
      ]
     },
     "execution_count": 5,
     "metadata": {},
     "output_type": "execute_result"
    }
   ],
   "source": [
    "r(alpha::Real, z::Real, K::Real, L::Real)=alpha*z*K^(alpha-1)*L^(1-alpha)\n",
    "w(alpha::Real,z::Real,K::Real,L::Real)=(1-alpha)*z*K^(alpha)*L^(-alpha)    "
   ]
  },
  {
   "cell_type": "code",
   "execution_count": null,
   "metadata": {},
   "outputs": [],
   "source": [
    "mutable struct KSSolution\n",
    "    k_opt::Array{Float64,3} # Policy function for individual capital, aggregate capital, shock state\n",
    "    value::Array{Float64,3} # Value function individual capital, aggregate capital, shock state\n",
    "    B::Vector{Float64} # Coefficients on approximate aggregate capital law of motion\n",
    "    R2::Vector{Float64} # Rsquare of approximate aggregate capital law of motion \n",
    "end"
   ]
  },
  {
   "cell_type": "code",
   "execution_count": null,
   "metadata": {},
   "outputs": [],
   "source": [
    "function KSSolution(ksp::NamedTuple) \n",
    "\n",
    "    k_opt=ksp.beta*repeat(ksp.k_grid,outer=[1,ksp.K_size,ksp.s_size])\n",
    "\n",
    "    k_opt=0.9*repeat(ksp.k_grid,outer=[1,ksp.K_size,ksp.s_size])\n",
    "    \n",
    "    k_opt .= clamp.(k_opt, ksp.k_min, ksp.k_max)\n",
    "    \n",
    "    value=ksp.u.(0.1/0.9*k_opt)/(1-ksp.beta)\n",
    " \n",
    "    Coefficients_β = [0.0, 1.0, 0.0, 1.0]\n",
    "    kss = KS_Solution(k_opt, value, B, [0.0, 0.0])\n",
    "end"
   ]
  },
  {
   "cell_type": "markdown",
   "metadata": {},
   "source": [
    "Shock Generation, aggregate and idiosyncratic shock"
   ]
  },
  {
   "cell_type": "code",
   "execution_count": 53,
   "metadata": {},
   "outputs": [
    {
     "data": {
      "text/plain": [
       "generate_shocks (generic function with 3 methods)"
      ]
     },
     "execution_count": 53,
     "metadata": {},
     "output_type": "execute_result"
    }
   ],
   "source": [
    "function generate_shocks(ksp::NamedTuple;\n",
    "    z_shock_size::Integer = 1100,\n",
    "    population::Integer = 10000)\n",
    "\n",
    "# unpack parameters\n",
    "Peps_gg = ksp.transmat.Peps_gg\n",
    "Peps_bg = ksp.transmat.Peps_bg\n",
    "Peps_gb = ksp.transmat.Peps_gb\n",
    "Peps_bb = ksp.transmat.Peps_bb\n",
    "\n",
    "# draw aggregate shock\n",
    "zi_shock = simulate(MarkovChain(ksp.transmat.Pz), z_shock_size)\n",
    "\n",
    "### Let's draw individual shock ###\n",
    "epsi_shock = Array{Int}(undef, z_shock_size, population) # preallocation\n",
    "\n",
    "# first period\n",
    "rand_draw = rand(population)\n",
    "\n",
    "\n",
    "# recall: index 1 of eps is employed, index 2 of eps is unemployed\n",
    "if zi_shock[1] == 1 # if good\n",
    "    epsi_shock[1, :] .= (rand_draw .< ksp.ug) .+ 1 # if draw is higher, become employed \n",
    "elseif zi_shock[1] == 2 # if bad\n",
    "    epsi_shock[1, :] .= (rand_draw .< ksp.ub) .+ 1 # if draw is higher, become employed\n",
    "else\n",
    "    error(\"the value of z_shocks[1] (=$(z_shocks[1])) is strange\")\n",
    "end\n",
    "\n",
    "# from second period ...   \n",
    "for t = 2:z_shock_size\n",
    "draw_eps_shock!(Val(zi_shock[t]), Val(zi_shock[t-1]),\n",
    "   view(epsi_shock, t, :), epsi_shock[t-1, :], ksp.transmat)\n",
    "end\n",
    "\n",
    "# Adjustment in the number of employed and unemployed agents in the distribution\n",
    "for t=1:z_shock_size\n",
    "    n_e = count(epsi_shock[t,:].==1) # count number of employed\n",
    "    empl_rate_ideal = ifelse(zi_shock[t] == 1, 1.0-ksp.ug, 1.0-ksp.ub)\n",
    "    gap = round(Int, empl_rate_ideal*population) - n_e\n",
    "    \n",
    "    if gap > 0\n",
    "        become_employed_i = rand(findall(2 .== epsi_shock[t,:]), gap)\n",
    "        epsi_shock[t, become_employed_i] .= 1\n",
    "    elseif gap < 0\n",
    "        become_unemployed_i = rand(findall(1 .== epsi_shock[t, :]), -gap)\n",
    "        epsi_shock[t,become_unemployed_i] .= 2\n",
    "    end \n",
    "end\n",
    "\n",
    "return zi_shock, epsi_shock    \n",
    "end"
   ]
  },
  {
   "cell_type": "markdown",
   "metadata": {},
   "source": [
    "# UNDERSTAND FROM SECOND PERIOD AND ADJUSTMENT"
   ]
  },
  {
   "cell_type": "code",
   "execution_count": 54,
   "metadata": {},
   "outputs": [
    {
     "data": {
      "text/plain": [
       "draw_eps_shock! (generic function with 6 methods)"
      ]
     },
     "execution_count": 54,
     "metadata": {},
     "output_type": "execute_result"
    }
   ],
   "source": [
    "\n",
    "draw_eps_shock!(zi::Val{1}, zi_lag::Val{1}, epsi, epsi_lag::AbstractVector, transmat::TransitionMatrix) =  draw_eps_shock!(epsi, epsi_lag, transmat.Peps_gg)\n",
    "\n",
    "draw_eps_shock!(zi::Val{1}, zi_lag::Val{2}, epsi, epsi_lag::AbstractVector, transmat::TransitionMatrix) =  draw_eps_shock!(epsi, epsi_lag, transmat.Peps_bg)\n",
    "\n",
    "draw_eps_shock!(zi::Val{2}, zi_lag::Val{1}, epsi, epsi_lag::AbstractVector, transmat::TransitionMatrix) = draw_eps_shock!(epsi, epsi_lag, transmat.Peps_gb)\n",
    "\n",
    "draw_eps_shock!(zi::Val{2}, zi_lag::Val{2}, epsi, epsi_lag::AbstractVector, transmat::TransitionMatrix) = draw_eps_shock!(epsi, epsi_lag, transmat.Peps_bb)"
   ]
  },
  {
   "cell_type": "code",
   "execution_count": 55,
   "metadata": {},
   "outputs": [
    {
     "data": {
      "text/plain": [
       "draw_eps_shock! (generic function with 6 methods)"
      ]
     },
     "execution_count": 55,
     "metadata": {},
     "output_type": "execute_result"
    }
   ],
   "source": [
    "function draw_eps_shock!(epsi_shocks,\n",
    "    epsi_shock_before,\n",
    "    Peps::AbstractMatrix)\n",
    "\n",
    "# loop over entire population\n",
    "for i=1:length(epsi_shocks)\n",
    "    rand_draw = rand()\n",
    "    epsi_shocks[i] = ifelse(epsi_shock_before[i] == 1,\n",
    "            (Peps[1, 1] < rand_draw)+1,  # if employed before\n",
    "            (Peps[2, 1] < rand_draw)+1)  # if unemployed before\n",
    "end\n",
    "return nothing\n",
    "end"
   ]
  },
  {
   "cell_type": "markdown",
   "metadata": {},
   "source": [
    "Functions for Euler equation method\n"
   ]
  },
  {
   "cell_type": "markdown",
   "metadata": {},
   "source": [
    "Solve individual problem by Euler equation method, namely, iterations of the Euler equation:\n",
    "\n",
    "\\begin{align}\n",
    "(c)^{- \\theta} = \\beta \\mathrm{E} [(c')^{- \\theta} ( 1 - \\delta + r')]\n",
    "\\end{align}"
   ]
  },
  {
   "cell_type": "code",
   "execution_count": 17,
   "metadata": {},
   "outputs": [
    {
     "data": {
      "text/plain": [
       "solve_ump! (generic function with 1 method)"
      ]
     },
     "execution_count": 17,
     "metadata": {},
     "output_type": "execute_result"
    }
   ],
   "source": [
    "function solve_ump!(ksp::NamedTuple, kss::KSSolution;\n",
    "    max_iter::Integer=10000,\n",
    "    tol::AbstractFloat=1e-8)\n",
    "    \n",
    "alpha, beta, delta, theta, l_bar, mu = \n",
    "ksp.alpha, ksp.beta, ksp.delta, ksp.theta, ksp.l_bar, ksp.mu\n",
    "k_grid, k_size = ksp.k_grid, ksp.k_size\n",
    "K_grid, K_size = ksp.K_grid, ksp.K_size\n",
    "s_grid, s_size = ksp.s_grid, ksp.s_size\n",
    "k_min, k_max = ksp.k_min, ksp.k_max\n",
    "\n",
    "global counter = 0\n",
    "k_opt_n = similar(kss.k_opt)\n",
    "\n",
    "while true\n",
    "    global counter += 1\n",
    "    for s_i = 1:s_size\n",
    "        z, eps = s_grid[s_i, 1], s_grid[s_i, 2]\n",
    "        for (K_i, K) = enumerate(K_grid)\n",
    "        Kp, L = compute_Kp_L(K,s_i,kss.B,ksp)\n",
    "            for (k_i, k) = enumerate(k_grid)\n",
    "\n",
    "                wealth = (r(alpha,z,K,L)+1-delta)*k + w(alpha,z,K,L)*(eps*l_bar + mu*(1-eps))\n",
    "\n",
    "                expec = compute_expectation_FOC(kss.k_opt[k_i, K_i, s_i], Kp, s_i, ksp)\n",
    "                cn = (beta*expec)^(-1.0/theta)\n",
    "                k_opt_n[k_i, K_i, s_i] = wealth-cn\n",
    "            end\n",
    "        end\n",
    "    end\n",
    "\n",
    "    k_opt_n .= clamp.(k_opt_n, k_min, k_max)\n",
    "\n",
    "    dif_k = maximum(abs, k_opt_n - kss.k_opt)\n",
    "\n",
    "    if dif_k < tol\n",
    "        break\n",
    "    end\n",
    "\n",
    "    if counter >= max_iter\n",
    "        @warn \"Euler method failed to converge with dif_k)\"\n",
    "        break\n",
    "    end\n",
    "\n",
    "    kss.k_opt .= ksp.update_k*k_opt_n .+ (1-ksp.update_k)*kss.k_opt\n",
    "    end\n",
    "return nothing\n",
    "end\n"
   ]
  },
  {
   "attachments": {},
   "cell_type": "markdown",
   "metadata": {},
   "source": [
    "Compute_expectation_FOC"
   ]
  },
  {
   "cell_type": "code",
   "execution_count": 18,
   "metadata": {},
   "outputs": [
    {
     "data": {
      "text/plain": [
       "compute_expectation_FOC (generic function with 1 method)"
      ]
     },
     "execution_count": 18,
     "metadata": {},
     "output_type": "execute_result"
    }
   ],
   "source": [
    "function compute_expectation_FOC(kp::Real, Kp::Real, s_i::Integer, ksp::NamedTuple)\n",
    "alpha, theta, delta, l_bar, mu, P = ksp.alpha, ksp.theta, ksp.delta, ksp.l_bar, ksp.mu, ksp.transmat.P\n",
    "\n",
    "global expec = 0.0\n",
    "for s_n_i = 1:ksp.s_size\n",
    "    zp, epsp = ksp.s_grid[s_n_i, 1], ksp.s_grid[s_n_i, 2]\n",
    "    Kpp, Lp = compute_Kp_L(Kp, s_n_i, kss.B, ksp)\n",
    "    rn = r(alpha, zp, Kp, Lp)\n",
    "    kpp = interpolate((ksp.k_grid, ksp.K_grid), kss.k_opt[:, :, s_n_i], Gridded(Linear()))\n",
    "    cp = (rn+1-delta)*kp + w(alpha, zp ,Kp, Lp)*(epsp*l_bar+mu*(1.0-epsp)) - kpp(kp, Kp)\n",
    "    global expec = expec + P[s_i, s_n_i]*(cp)^(-theta)*(1-delta+rn)\n",
    "end \n",
    "\n",
    "return expec\n",
    "end"
   ]
  },
  {
   "cell_type": "code",
   "execution_count": 19,
   "metadata": {},
   "outputs": [
    {
     "data": {
      "text/plain": [
       "compute_Kp_L (generic function with 1 method)"
      ]
     },
     "execution_count": 19,
     "metadata": {},
     "output_type": "execute_result"
    }
   ],
   "source": [
    "function compute_Kp_L(K::Real, s_i::Integer, B::AbstractVector, ksp::NamedTuple)\n",
    "    Kp, L = ifelse(s_i%ksp.eps_size == 1,\n",
    "    (exp(B[1]+B[2]*log(K)), ksp.l_bar*(1-ksp.ug)), # if good\n",
    "    (exp(B[3]+B[4]*log(K)), ksp.l_bar*(1-ksp.ub))) # if bad\n",
    "    Kp = clamp(Kp, ksp.K_min, ksp.K_max)\n",
    "    return Kp, L\n",
    "end"
   ]
  },
  {
   "attachments": {},
   "cell_type": "markdown",
   "metadata": {},
   "source": [
    "# REGARDER AUTRE FACON DE UNPACK PARAMETERS AVEC PARAMETER PACKAGE"
   ]
  },
  {
   "attachments": {},
   "cell_type": "markdown",
   "metadata": {},
   "source": [
    "# Simulate Path of Aggregate Capital"
   ]
  },
  {
   "cell_type": "code",
   "execution_count": 6,
   "metadata": {},
   "outputs": [],
   "source": [
    "abstract type SimulationMethod end"
   ]
  },
  {
   "cell_type": "code",
   "execution_count": 26,
   "metadata": {},
   "outputs": [],
   "source": [
    "struct Stochastic <: SimulationMethod\n",
    "    epsi_shocks::Matrix{Int}\n",
    "    k_population::Vector{Float64}\n",
    "end"
   ]
  },
  {
   "cell_type": "code",
   "execution_count": 27,
   "metadata": {},
   "outputs": [
    {
     "data": {
      "text/plain": [
       "Stochastic"
      ]
     },
     "execution_count": 27,
     "metadata": {},
     "output_type": "execute_result"
    }
   ],
   "source": [
    "Stochastic(epsi_shocks::Matrix{Int}) = Stochastic(epsi_shocks, fill(40, size(epsi_shocks, 2)))"
   ]
  },
  {
   "attachments": {},
   "cell_type": "markdown",
   "metadata": {},
   "source": [
    "# simulate_aggregate_path!"
   ]
  },
  {
   "cell_type": "code",
   "execution_count": 31,
   "metadata": {},
   "outputs": [
    {
     "data": {
      "text/plain": [
       "epsi_zi_to_si (generic function with 1 method)"
      ]
     },
     "execution_count": 31,
     "metadata": {},
     "output_type": "execute_result"
    }
   ],
   "source": [
    "\n",
    "function simulate_aggregate_path!(ksp::NamedTuple, kss::KSSolution,\n",
    "    zi_shocks::AbstractVector, K_ts::Vector, sm::Stochastic)\n",
    "epsi_shocks, k_population = sm.epsi_shocks, sm.k_population\n",
    "\n",
    "T = length(zi_shocks)   # simulated duration\n",
    "N=size(epsi_shocks, 2) # number of agents\n",
    "\n",
    "# loop over T periods\n",
    "for (t, z_i) = enumerate(zi_shocks)\n",
    "    K_ts[t] = mean(k_population) # current aggrgate capital\n",
    "    \n",
    "    # loop over individuals\n",
    "    for (i, k) in enumerate(k_population)\n",
    "        eps_i = epsi_shocks[t, i]   # idiosyncratic shock\n",
    "        s_i = epsi_zi_to_si(eps_i, z_i, ksp.z_size) # transform (z_i, eps_i) to s_i\n",
    "        # obtain next capital holding by interpolation\n",
    "        itp_pol = interpolate((ksp.k_grid, ksp.K_grid), kss.k_opt[:, :, s_i], Gridded(Linear()))\n",
    "        k_population[i] = itp_pol(k, K_ts[t])\n",
    "    end\n",
    "end\n",
    "return nothing\n",
    "end\n",
    "\n",
    "epsi_zi_to_si(eps_i::Integer, z_i::Integer, z_size::Integer) = z_i + ksp.z_size*(eps_i-1)"
   ]
  },
  {
   "attachments": {},
   "cell_type": "markdown",
   "metadata": {},
   "source": [
    "Obtaining aggregate law of motion coefficient\n"
   ]
  },
  {
   "attachments": {},
   "cell_type": "markdown",
   "metadata": {},
   "source": [
    "The functions is used to obtain the coefficient of approximate aggregate capital law of motion (ALM)\n",
    "\n"
   ]
  },
  {
   "attachments": {},
   "cell_type": "markdown",
   "metadata": {},
   "source": [
    "regress_ALM!"
   ]
  },
  {
   "cell_type": "code",
   "execution_count": 1,
   "metadata": {},
   "outputs": [
    {
     "ename": "LoadError",
     "evalue": "UndefVarError: KSSolution not defined",
     "output_type": "error",
     "traceback": [
      "UndefVarError: KSSolution not defined",
      "",
      "Stacktrace:",
      " [1] top-level scope",
      "   @ In[1]:1",
      " [2] eval",
      "   @ .\\boot.jl:360 [inlined]",
      " [3] include_string(mapexpr::typeof(REPL.softscope), mod::Module, code::String, filename::String)",
      "   @ Base .\\loading.jl:1116"
     ]
    }
   ],
   "source": [
    "function regress_ALM!(ksp::NamedTuple, kss::KSSolution,\n",
    "    zi_shocks::Vector, K_ts::Vector;\n",
    "    T_discard::Integer=100)\n",
    "\n",
    "# Discard the first 100 observations \n",
    "n_g = count(zi_shocks[T_discard+1:end-1] .== 1)\n",
    "n_b = count(zi_shocks[T_discard+1:end-1] .== 2)\n",
    "\n",
    "# Preallocation of memory for vectors of data and coefficients\n",
    "B_n = Vector{Float64}(undef, 4)\n",
    "x_g = Vector{Float64}(undef, n_g)\n",
    "y_g = Vector{Float64}(undef, n_g)\n",
    "x_b = Vector{Float64}(undef, n_b)\n",
    "y_b = Vector{Float64}(undef, n_b)\n",
    "\n",
    "#  Define counters \n",
    "global i_g = 1\n",
    "global i_b = 1\n",
    "\n",
    "for t = T_discard+1:length(zi_shocks)-1\n",
    "    if zi_shocks[t] == 1\n",
    "        x_g[i_g] = log(K_ts[t])\n",
    "        y_g[i_g] = log(K_ts[t+1])\n",
    "        global i_g += 1\n",
    "    else\n",
    "        x_b[i_b] = log(K_ts[t])\n",
    "        y_b[i_b] = log(K_ts[t+1])\n",
    "        global i_b += 1\n",
    "    end\n",
    "end\n",
    "\n",
    "resg = lm([ones(n_g) x_g], y_g)\n",
    "resb = lm([ones(n_b) x_b], y_b)\n",
    "\n",
    "kss.R2 = [r2(resg), r2(resb)]\n",
    "\n",
    "B_n[1], B_n[2] = coef(resg)\n",
    "B_n[3], B_n[4] = coef(resb)\n",
    "\n",
    "dif_B = maximum(abs, B_n-kss.B)\n",
    "println(\" --- Difference of ALM coefficients is $dif_B ---\", \"\\n\")\n",
    "return B_n, dif_B\n",
    "end"
   ]
  },
  {
   "attachments": {},
   "cell_type": "markdown",
   "metadata": {},
   "source": [
    "find_ALM_coef!"
   ]
  },
  {
   "cell_type": "code",
   "execution_count": 33,
   "metadata": {},
   "outputs": [
    {
     "data": {
      "text/plain": [
       "find_ALM_coef! (generic function with 1 method)"
      ]
     },
     "execution_count": 33,
     "metadata": {},
     "output_type": "execute_result"
    }
   ],
   "source": [
    "function find_ALM_coef!(sm::SimulationMethod,\n",
    "    ksp::NamedTuple, kss::KSSolution,\n",
    "    zi_shocks::Vector{Int};\n",
    "    tol_ump::AbstractFloat=1e-8,\n",
    "    max_iter_ump::Integer=100,\n",
    "    tol_B::AbstractFloat=1e-8,\n",
    "    max_iter_B::Integer=20,\n",
    "    update_B::AbstractFloat=0.3,\n",
    "    T_discard::Integer=100)\n",
    "\n",
    "K_ts = Vector{Float64}(undef, length(zi_shocks))\n",
    "\n",
    "global counter_B = 1\n",
    "    while true\n",
    "\n",
    "        println(\" --- Iteration over ALM coefficient: $counter_B --- \", \"\\n\")\n",
    "\n",
    "        # Solve individual problem\n",
    "        solve_ump!(umpsm, ksp, kss, max_iter = max_iter_ump, tol = tol_ump)\n",
    "\n",
    "        # Compute aggregate path of capital\n",
    "        simulate_aggregate_path!(ksp, kss, zi_shocks, K_ts, sm)\n",
    "\n",
    "        # obtain new ALM coefficient by regression\n",
    "        B_n, dif_B = regress_ALM!(ksp, kss, zi_shocks, K_ts, T_discard=T_discard)\n",
    "\n",
    "        # check convergence\n",
    "        if dif_B < tol_B\n",
    "            println(\"-----------------------------------------------------\")\n",
    "            println(\"ALM coefficient successfully converged : dif = $dif_B\")\n",
    "            println(\"-----------------------------------------------------\")\n",
    "            break\n",
    "        elseif counter_B == max_iter_B\n",
    "            println(\"----------------------------------------------------------------\")\n",
    "            println(\"Iteration over ALM coefficient reached its maximum ($max_iter_B)\")\n",
    "            println(\"----------------------------------------------------------------\")\n",
    "            break\n",
    "        end\n",
    "\n",
    "        # Update B\n",
    "        kss.B .= update_B .* B_n .+ (1-update_B) .* kss.B\n",
    "\n",
    "        global counter_B += 1\n",
    "    end\n",
    "return K_ts\n",
    "end\n"
   ]
  },
  {
   "attachments": {},
   "cell_type": "markdown",
   "metadata": {},
   "source": [
    "Plotting"
   ]
  },
  {
   "cell_type": "code",
   "execution_count": 34,
   "metadata": {},
   "outputs": [
    {
     "data": {
      "text/plain": [
       "plot_ALM (generic function with 1 method)"
      ]
     },
     "execution_count": 34,
     "metadata": {},
     "output_type": "execute_result"
    }
   ],
   "source": [
    "function plot_ALM(z_grid::AbstractVector, zi_shocks::Vector,\n",
    "    B::Vector, K_ts::Vector;\n",
    "    T_discard::Integer = 100)\n",
    "\n",
    "compute_approxKprime(K, z::Val{1}, B) = exp(B[1]+B[2]*log(K))\n",
    "compute_approxKprime(K, z::Val{2}, B) = exp(B[3]+B[4]*log(K))\n",
    "K_ts_approx = similar(K_ts) # preallocation\n",
    "\n",
    "# compute approximate ALM for capital\n",
    "K_ts_approx[T_discard]=K_ts[T_discard]\n",
    "\n",
    "for t=T_discard:length(zi_shocks)-1\n",
    "K_ts_approx[t+1] = \n",
    "compute_approxKprime(K_ts_approx[t], Val(zi_shocks[t]), B)\n",
    "end\n",
    "\n",
    "p = plot(T_discard+1:length(K_ts), K_ts[T_discard+1:end],lab=\"true\",color=:red,line=:solid)\n",
    "plot!(p, T_discard+1:length(K_ts), K_ts_approx[T_discard+1:end],lab=\"approximation\",color=:blue,line=:dash)\n",
    "title!(p, \"Aggregate Law of Motion for Capital\")\n",
    "return p\n",
    "end\n"
   ]
  },
  {
   "attachments": {},
   "cell_type": "markdown",
   "metadata": {},
   "source": [
    "Plot Figure 1"
   ]
  },
  {
   "cell_type": "code",
   "execution_count": 35,
   "metadata": {},
   "outputs": [
    {
     "data": {
      "text/plain": [
       "plot_Fig2 (generic function with 1 method)"
      ]
     },
     "execution_count": 35,
     "metadata": {},
     "output_type": "execute_result"
    }
   ],
   "source": [
    "function plot_Fig1(ksp, kss, K_ts)\n",
    "    K_min, K_max = minimum(K_ts), maximum(K_ts)\n",
    "    K_lim = range(K_min, stop=K_max, length=100)\n",
    "    Kp_g = exp.(kss.B[1] .+ kss.B[2]*log.(K_lim))\n",
    "    Kp_b = exp.(kss.B[3] .+ kss.B[4]*log.(K_lim))\n",
    "    \n",
    "    p = plot(K_lim, Kp_g, linestyle =:solid, lab=\"Good\")\n",
    "    plot!(p, K_lim, Kp_b, linestyle =:solid, lab=\"Bad\")\n",
    "    plot!(p, K_lim, K_lim, color=:black, linestyle =:dash, lab=\"45 degree\", width=0.5)\n",
    "    title!(p, \"Changes in Aggregate Capital\")     \n",
    "    return p\n",
    "end\n"
   ]
  }
 ],
 "metadata": {
  "kernelspec": {
   "display_name": "Julia 1.6.2",
   "language": "julia",
   "name": "julia-1.6"
  },
  "language_info": {
   "file_extension": ".jl",
   "mimetype": "application/julia",
   "name": "julia",
   "version": "1.6.2"
  },
  "orig_nbformat": 4
 },
 "nbformat": 4,
 "nbformat_minor": 2
}
